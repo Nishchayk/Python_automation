{
 "cells": [
  {
   "cell_type": "code",
   "execution_count": 3,
   "id": "4f895aac-9da3-4ebe-bf04-4d6a54f5d7e6",
   "metadata": {},
   "outputs": [],
   "source": [
    "import pandas as pd\n",
    "import numpy as np\n",
    "from sqlalchemy import create_engine\n",
    "import os"
   ]
  },
  {
   "cell_type": "code",
   "execution_count": 4,
   "id": "4183618c-9e28-4776-b7f0-10036fb40e92",
   "metadata": {},
   "outputs": [
    {
     "name": "stdout",
     "output_type": "stream",
     "text": [
      "   col_name       lse\n",
      "0        41  0.085616\n",
      "1        40  0.089005\n",
      "2        10  0.074655\n",
      "3        47  0.079909\n"
     ]
    }
   ],
   "source": [
    "class DataProcessor: \n",
    "    def __init__(self):\n",
    "        self.index_position = []\n",
    "        self.least_square = []\n",
    "        # self.sql_filename = sql_filename\n",
    "    def complie_sql_database(self):\n",
    "        # change the file name below\n",
    "        self.engine = create_engine(f\"sqlite:///file_name.db\")\n",
    "    def reading_test_file(self):\n",
    "        self.csv_files = [ i for i in os.listdir(os.getcwd()) if i.endswith(\".csv\")]\n",
    "        if \"test.csv\" in self.csv_files:\n",
    "            index_position = self.csv_files.index(\"test.csv\")\n",
    "            self.test_df = pd.read_csv(self.csv_files[index_position])\n",
    "            self.test_df.to_sql(\"test_data\", con = self.engine,if_exists=\"replace\",index=False)\n",
    "        else:\n",
    "            print(\"file don't exists in path {0}\".format(os.getcwd()))\n",
    "    def reading_training_file(self):\n",
    "        if \"train.csv\" in self.csv_files:\n",
    "            index_position = self.csv_files.index(\"train.csv\")\n",
    "            self.train_df = pd.read_csv(self.csv_files[index_position])\n",
    "            self.train_df.to_sql(\"training_dataset\", con = self.engine,if_exists=\"replace\",index=False)\n",
    "        else:\n",
    "            print(\"file don't exists in path {0}\".format(os.getcwd()))\n",
    "    def reading_ideal_file(self):\n",
    "        if \"ideal.csv\" in self.csv_files:\n",
    "            index_position = self.csv_files.index(\"ideal.csv\")\n",
    "            self.ideal_df = pd.read_csv(self.csv_files[index_position])\n",
    "            self.ideal_df.to_sql(\"ideal_dataset\", con = self.engine,if_exists=\"replace\",index=False)\n",
    "        else:\n",
    "            print(\"file don't exists in path {0}\".format(os.getcwd()))\n",
    "    def select_ideal_function(self):\n",
    "        least_square = []\n",
    "        for i in range(1,len(self.train_df.columns)):\n",
    "            lse_square = []\n",
    "            for j in range(1,len(self.ideal_df.columns)):\n",
    "                mse_value = 0\n",
    "                for k in range(len(self.train_df)):\n",
    "                    x = self.train_df.iloc[k,i]\n",
    "                    y = self.ideal_df.iloc[k,j]\n",
    "                    mse_value = mse_value + ((x-y)**2)\n",
    "                lse_square.append(mse_value/len(self.train_df))\n",
    "            minimum = min(lse_square)\n",
    "            if minimum < np.sqrt(2):\n",
    "                index = lse_square.index(minimum)\n",
    "                self.index_position.append(index)\n",
    "                self.least_square.append(minimum)\n",
    "        table = pd.DataFrame({\n",
    "            \"col_name\":self.index_position,\n",
    "            \"lse\":self.least_square\n",
    "        }\n",
    "                            )\n",
    "        print(table)\n",
    "d = DataProcessor()\n",
    "d.complie_sql_database()\n",
    "d.reading_test_file()\n",
    "d.reading_training_file()\n",
    "d.reading_ideal_file()\n",
    "d.select_ideal_function()"
   ]
  },
  {
   "cell_type": "code",
   "execution_count": null,
   "id": "9c60f170-1e90-4079-b140-49f5f455fc72",
   "metadata": {},
   "outputs": [],
   "source": []
  }
 ],
 "metadata": {
  "kernelspec": {
   "display_name": "Python 3 (ipykernel)",
   "language": "python",
   "name": "python3"
  },
  "language_info": {
   "codemirror_mode": {
    "name": "ipython",
    "version": 3
   },
   "file_extension": ".py",
   "mimetype": "text/x-python",
   "name": "python",
   "nbconvert_exporter": "python",
   "pygments_lexer": "ipython3",
   "version": "3.12.1"
  }
 },
 "nbformat": 4,
 "nbformat_minor": 5
}

{
 "cells": [
  {
   "cell_type": "code",
   "execution_count": 1,
   "id": "e9f66848-53ec-4ab9-85ca-e2a44c8d5a41",
   "metadata": {},
   "outputs": [],
   "source": [
    "import os,sys,time\n",
    "import pandas as pd\n",
    "import numpy as np\n",
    "import matplotlib.pyplot as plt\n",
    "from sqlalchemy import create_engine\n",
    "from sklearn.linear_model import LinearRegression"
   ]
  },
  {
   "cell_type": "code",
   "execution_count": 14,
   "id": "f2104f65-4bda-4382-97cb-5864da0d3424",
   "metadata": {},
   "outputs": [
    {
     "name": "stdout",
     "output_type": "stream",
     "text": [
      "['ideal.csv', 'test.csv', 'train.csv']\n",
      "        x         y1         y2         y3        y4\n",
      "0   -20.0  39.778572 -40.078590 -20.214268 -0.324914\n",
      "1   -19.9  39.604813 -39.784000 -20.070950 -0.058820\n",
      "2   -19.8  40.099070 -40.018845 -19.906782 -0.451830\n",
      "3   -19.7  40.151100 -39.518402 -19.389118 -0.612044\n",
      "4   -19.6  39.795662 -39.360065 -19.815890 -0.306076\n",
      "..    ...        ...        ...        ...       ...\n",
      "395  19.5 -38.254158  39.661987  19.536741  0.695158\n",
      "396  19.6 -39.106945  39.067880  19.840752  0.638423\n",
      "397  19.7 -38.926495  40.211475  19.516634  0.109105\n",
      "398  19.8 -39.276672  40.038870  19.377943  0.189025\n",
      "399  19.9 -39.724934  40.558865  19.630678  0.513824\n",
      "\n",
      "[400 rows x 5 columns]\n"
     ]
    }
   ],
   "source": [
    "class reading_csv_files_tosql:\n",
    "    files = [ i for i in os.listdir(os.getcwd()) if i.endswith(\"csv\")]\n",
    "    print(files)\n",
    "    def __init__(self,file_name):\n",
    "        self.file_name = file_name\n",
    "    def sql_engine (self):\n",
    "        self.engine = create_engine(\"sqlite:///{0}.db\".format(self.file_name))\n",
    "    def converting_traincsv_tosql(self):\n",
    "        try:\n",
    "            self.train_df = pd.read_csv(reading_csv_files_tosql.files[2])\n",
    "        except FileNotFoundError as e:\n",
    "            print(\"file is not present in these dir{0}\".format(e))\n",
    "        self.train_df.to_sql(\"train_dataset\",con=seslf.con,if_exists=\"replace\",index=False)\n",
    "    def converting_idealcsv_tosql(self):\n",
    "        try:\n",
    "            self.ideal_df = pd.read_csv(reading_csv_files_tosql.files[0]))\n",
    "        except FileNotFoundError as e:\n",
    "            print(\"file not present in these dir{0}\".format(e))\n",
    "        self.ideal_df.to_sql(\"ideal_dataset\",con=self.engine,if_exists = \"replace\",index = False)\n",
    "    def converting_testcsv_tosql():\n",
    "        try:\n",
    "            \n",
    "\n",
    "iu = reading_csv_files_tosql(\"a\")\n",
    "iu.sql_engine()\n",
    "iu.converting_traincsv_tosql()\n",
    "iu.converting_idealcsv_tosql()"
   ]
  },
  {
   "cell_type": "code",
   "execution_count": null,
   "id": "40d766c7-e2f5-43c0-b7de-62d08b2f29d8",
   "metadata": {},
   "outputs": [],
   "source": []
  }
 ],
 "metadata": {
  "kernelspec": {
   "display_name": "Python 3 (ipykernel)",
   "language": "python",
   "name": "python3"
  },
  "language_info": {
   "codemirror_mode": {
    "name": "ipython",
    "version": 3
   },
   "file_extension": ".py",
   "mimetype": "text/x-python",
   "name": "python",
   "nbconvert_exporter": "python",
   "pygments_lexer": "ipython3",
   "version": "3.12.1"
  }
 },
 "nbformat": 4,
 "nbformat_minor": 5
}
